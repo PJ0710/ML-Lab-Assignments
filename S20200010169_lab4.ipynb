{
 "cells": [
  {
   "cell_type": "code",
   "execution_count": 133,
   "metadata": {},
   "outputs": [
    {
     "name": "stdout",
     "output_type": "stream",
     "text": [
      "[0, 0, 0, 0, 0, 0, 0, 0, 0, 1, 1, 2, 1, 1, 1, 1, 1, 1, 1, 2, 2, 2, 2, 2, 2, 2, 2, 2, 2, 2]\n",
      "Naive Bayes classifier accuracy with discretization 0.9666666666666667\n"
     ]
    }
   ],
   "source": [
    "import random\n",
    "from sklearn import datasets\n",
    "import numpy as np\n",
    "import pandas as pd\n",
    "\n",
    "IRIS = datasets.load_iris()\n",
    "x = IRIS.data\n",
    "y = IRIS.target\n",
    "\n",
    "train_index = random.sample(range(0, 150), 120)\n",
    "X_train = x[train_index]\n",
    "Y_train = y[train_index]\n",
    "\n",
    "test_index = []\n",
    "for i in range(0, 150):\n",
    "    if i not in train_index:\n",
    "        test_index.append(i)\n",
    "X_test = x[test_index]\n",
    "Y_test = y[test_index]\n",
    "\n",
    "X_train_rint = np.rint(X_train)\n",
    "X_test_rint = np.rint(X_test)\n",
    "\n",
    "class naive_bayes:\n",
    "    def fit(self, X, Y):\n",
    "        n_samples, n_features = X.shape\n",
    "        self._classes = np.unique(Y)\n",
    "        n_classes = len(self._classes)\n",
    "        \n",
    "        self._mean = np.zeros((n_classes, n_features), dtype=np.float64)\n",
    "        self._var = np.zeros((n_classes, n_features), dtype=np.float64)\n",
    "        self._priors = np.zeros(n_classes, dtype=np.float64)\n",
    "        \n",
    "        for idx, c in enumerate(self._classes):\n",
    "            X_c = X[c == Y]\n",
    "            self._mean[idx, :] = X_c.mean(axis=0)\n",
    "            self._var[idx, :] = X_c.var(axis=0)\n",
    "            self._priors[idx] = X_c.shape[0] / float(n_samples)\n",
    "            \n",
    "    def predict(self, X):\n",
    "        y_pred = [self._predict(x) for x in X]\n",
    "        return y_pred\n",
    "    \n",
    "    def _predict(self, x):\n",
    "        posteriors = []\n",
    "        \n",
    "        for idx, c in enumerate(self._classes):\n",
    "            prior = np.log(self._priors[idx])\n",
    "            class_conditional = np.sum(np.log(self._pdf(idx, x)))\n",
    "            posterior = prior + class_conditional\n",
    "            posteriors.append(posterior)\n",
    "            \n",
    "        return self._classes[np.argmax(posteriors)]\n",
    "    \n",
    "    def _pdf(self, class_idx, x):\n",
    "        mean = self._mean[class_idx]\n",
    "        var = self._var[class_idx]\n",
    "        numerator = np.exp(-(x-mean)**2 / (2 * var))\n",
    "        denominator = np.sqrt(2 * np.pi * var)\n",
    "        return numerator / denominator\n",
    "\n",
    "model = naive_bayes()\n",
    "\n",
    "#With discretization\n",
    "model.fit(X_train_rint, Y_train)\n",
    "preds = model.predict(X_test_rint)\n",
    "print(preds)\n",
    "\n",
    "def accuracy(y_true, y_pred):\n",
    "    accuracy = np.sum(y_true == y_pred) / len(y_true)\n",
    "    return accuracy\n",
    "\n",
    "print(\"Naive Bayes classifier accuracy with discretization\", accuracy(Y_test, preds))"
   ]
  },
  {
   "cell_type": "code",
   "execution_count": 134,
   "metadata": {},
   "outputs": [
    {
     "name": "stdout",
     "output_type": "stream",
     "text": [
      "[0, 0, 0, 0, 0, 0, 0, 0, 0, 1, 1, 1, 1, 1, 1, 1, 1, 1, 1, 2, 2, 2, 2, 2, 2, 1, 2, 2, 2, 2]\n",
      "Naive Bayes classifier accuracy without discretization 0.9666666666666667\n"
     ]
    }
   ],
   "source": [
    "#Without discretization\n",
    "model.fit(X_train, Y_train)\n",
    "preds = model.predict(X_test)\n",
    "print(preds)\n",
    "\n",
    "print(\"Naive Bayes classifier accuracy without discretization\", accuracy(Y_test, preds))"
   ]
  },
  {
   "cell_type": "code",
   "execution_count": 135,
   "metadata": {},
   "outputs": [
    {
     "name": "stderr",
     "output_type": "stream",
     "text": [
      "C:\\Users\\pranj\\AppData\\Local\\Temp\\ipykernel_18060\\3609755976.py:58: RuntimeWarning: invalid value encountered in divide\n",
      "  numerator = np.exp(-(x-mean)**2 / (2 * var))\n",
      "C:\\Users\\pranj\\AppData\\Local\\Temp\\ipykernel_18060\\3609755976.py:58: RuntimeWarning: divide by zero encountered in divide\n",
      "  numerator = np.exp(-(x-mean)**2 / (2 * var))\n",
      "C:\\Users\\pranj\\AppData\\Local\\Temp\\ipykernel_18060\\3609755976.py:60: RuntimeWarning: invalid value encountered in divide\n",
      "  return numerator / denominator\n",
      "C:\\Users\\pranj\\AppData\\Local\\Temp\\ipykernel_18060\\3609755976.py:49: RuntimeWarning: divide by zero encountered in log\n",
      "  class_conditional = np.sum(np.log(self._pdf(idx, x)))\n"
     ]
    },
    {
     "name": "stdout",
     "output_type": "stream",
     "text": [
      "Naive Bayes classifier accuracy on OCR dataset 0.1002100210021002\n"
     ]
    }
   ],
   "source": [
    "#Using OCR Dataset\n",
    "train_data = pd.read_csv(\"pp_tra.dat\", sep=\" \", header=None)\n",
    "test_data = pd.read_csv(\"pp_tes.dat\", sep=\" \", header=None)\n",
    "\n",
    "X_train = train_data.iloc[:,:-1].to_numpy()\n",
    "Y_train = train_data.iloc[:,-1].to_numpy()\n",
    "\n",
    "X_test = test_data.iloc[:,:-1].to_numpy()\n",
    "Y_test = test_data.iloc[:,-1].to_numpy()\n",
    "\n",
    "model.fit(X_train, Y_train)\n",
    "preds = model.predict(X_test)\n",
    "\n",
    "print(\"Naive Bayes classifier accuracy on OCR dataset\", accuracy(Y_test, preds))"
   ]
  }
 ],
 "metadata": {
  "kernelspec": {
   "display_name": "Python 3.10.6 64-bit",
   "language": "python",
   "name": "python3"
  },
  "language_info": {
   "codemirror_mode": {
    "name": "ipython",
    "version": 3
   },
   "file_extension": ".py",
   "mimetype": "text/x-python",
   "name": "python",
   "nbconvert_exporter": "python",
   "pygments_lexer": "ipython3",
   "version": "3.10.6"
  },
  "orig_nbformat": 4,
  "vscode": {
   "interpreter": {
    "hash": "9193c1a9913195caabc2c874ca2de0cb16dd52b286f913a03acced765754a1e1"
   }
  }
 },
 "nbformat": 4,
 "nbformat_minor": 2
}
