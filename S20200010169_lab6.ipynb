{
 "cells": [
  {
   "cell_type": "code",
   "execution_count": 26,
   "metadata": {},
   "outputs": [],
   "source": [
    "import numpy as np\n",
    "import matplotlib.pyplot as plt\n",
    "from statistics import mode\n",
    "from sklearn.neighbors import KNeighborsClassifier\n",
    "\n",
    "mean1 = [0, 0]\n",
    "cov1 = [[1, 0], [0, 1]]\n",
    "mean2 = [0, 2]\n",
    "cov2 = [[1, 0], [0, 1]]\n",
    "n = [100, 200, 300, 400, 500, 600, 700, 800, 900, 1000]"
   ]
  },
  {
   "cell_type": "code",
   "execution_count": 27,
   "metadata": {},
   "outputs": [
    {
     "name": "stdout",
     "output_type": "stream",
     "text": [
      "n =  100 bias =  0.03 variance =  0.13099999999999995\n",
      "n =  200 bias =  0.05 variance =  0.13399999999999992\n",
      "n =  300 bias =  0.08 variance =  0.162\n",
      "n =  400 bias =  0.09 variance =  0.17099999999999999\n",
      "n =  500 bias =  0.05 variance =  0.14099999999999996\n",
      "n =  600 bias =  0.08 variance =  0.159\n",
      "n =  700 bias =  0.1 variance =  0.14599999999999994\n",
      "n =  800 bias =  0.05 variance =  0.13099999999999992\n",
      "n =  900 bias =  0.04 variance =  0.13899999999999996\n",
      "n =  1000 bias =  0.08 variance =  0.15200000000000002\n"
     ]
    },
    {
     "data": {
      "image/png": "[encoded data removed]",
      "text/plain": [
       "<Figure size 432x288 with 1 Axes>"
      ]
     },
     "metadata": {
      "needs_background": "light"
     },
     "output_type": "display_data"
    }
   ],
   "source": [
    "model = KNeighborsClassifier(n_neighbors=1)\n",
    "\n",
    "x_test = np.zeros(shape=(100,2))\n",
    "\n",
    "def gauss_density( mean, cov_matrix, variable):\n",
    "        cov_det = np.linalg.det(cov_matrix)\n",
    "        cov_inv = np.linalg.inv(cov_matrix)\n",
    "        x_m = variable - mean\n",
    "        return np.exp(-0.5 * np.dot(np.dot(x_m.T, cov_inv), x_m)) / np.sqrt((2 * np.pi) ** len(mean) * cov_det)\n",
    "\n",
    "def loss(y1, y2):\n",
    "        if y1 == y2:\n",
    "            return 0\n",
    "        else:\n",
    "            return 1\n",
    "\n",
    "final_bias = []\n",
    "final_var = []\n",
    "\n",
    "for num in n:\n",
    "    train_set = []\n",
    "    x_train = []\n",
    "    y_train = []\n",
    "\n",
    "    for i in range(10):\n",
    "        c1 = np.random.multivariate_normal(mean1, cov1, int(num/2)).T\n",
    "        c2 = np.random.multivariate_normal(mean2, cov2, int(num/2)).T\n",
    "        train_set.append(np.concatenate((c1, c2), axis=1))\n",
    "\n",
    "    test_set = np.concatenate((np.random.multivariate_normal(mean1, cov1, 50).T, np.random.multivariate_normal(mean2, cov2, 50).T), axis=1)\n",
    "\n",
    "    for i in range(10):\n",
    "        x_train.append(np.zeros(shape=(num,2)))\n",
    "        y_train.append(np.concatenate((np.zeros(int(num/2)), np.ones(int(num/2)))))\n",
    "\n",
    "    for i in range(10):\n",
    "        for j in range(num):\n",
    "            x_train[i][j] = [train_set[i][0][j], train_set[i][1][j]]\n",
    "\n",
    "    for i in range(100):\n",
    "        x_test[i] = [test_set[0][i], test_set[1][i]]\n",
    "    \n",
    "    preds = []\n",
    "    for i in range(10):\n",
    "        model.fit(x_train[i], y_train[i])\n",
    "        preds.append(model.predict(x_test))\n",
    "\n",
    "    ym_list = []\n",
    "    for i in range(100):\n",
    "        ym_list.append(mode([preds[0][i], preds[1][i], preds[2][i], preds[3][i], preds[4][i], preds[5][i], preds[6][i], preds[7][i], preds[8][i], preds[9][i]]))\n",
    "\n",
    "    ys_list = []\n",
    "    for i in range(100):\n",
    "        if gauss_density(mean1, cov1, x_test[i]) > gauss_density(mean2, cov2, x_test[i]):\n",
    "            ys_list.append(0)\n",
    "        else:\n",
    "            ys_list.append(1)\n",
    "\n",
    "    bias_list = []\n",
    "\n",
    "    for i in range(100):\n",
    "        bias_list.append(loss(ym_list[i], ys_list[i]))\n",
    "\n",
    "    bias = sum(bias_list)/100\n",
    "    final_bias.append(bias)\n",
    "\n",
    "    variance_list = []\n",
    "    \n",
    "    for i in range(100):\n",
    "        variance_list.append(sum(loss(preds[j][i], ym_list[i]) for j in range(10))/10)\n",
    "\n",
    "    variance = sum(variance_list)/100\n",
    "    final_var.append(variance)\n",
    "\n",
    "for i in range(10):\n",
    "    print(\"n = \", (i+1)*100, \"bias = \", final_bias[i], \"variance = \", final_var[i])\n",
    "\n",
    "plt.plot(n, final_bias, label='bias')\n",
    "plt.plot(n, final_var, label='variance')\n",
    "plt.legend()\n",
    "plt.show()"
   ]
  }
 ],
 "metadata": {
  "kernelspec": {
   "display_name": "Python 3.10.6 64-bit",
   "language": "python",
   "name": "python3"
  },
  "language_info": {
   "codemirror_mode": {
    "name": "ipython",
    "version": 3
   },
   "file_extension": ".py",
   "mimetype": "text/x-python",
   "name": "python",
   "nbconvert_exporter": "python",
   "pygments_lexer": "ipython3",
   "version": "3.10.6"
  },
  "orig_nbformat": 4,
  "vscode": {
   "interpreter": {
    "hash": "9193c1a9913195caabc2c874ca2de0cb16dd52b286f913a03acced765754a1e1"
   }
  }
 },
 "nbformat": 4,
 "nbformat_minor": 2
}
