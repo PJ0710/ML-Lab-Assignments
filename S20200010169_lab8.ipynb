{
 "cells": [
  {
   "cell_type": "code",
   "execution_count": 10,
   "metadata": {},
   "outputs": [
    {
     "name": "stdout",
     "output_type": "stream",
     "text": [
      "n =  100 bias =  0.001415149824208429 variance =  0.006750507827794482\n",
      "n =  200 bias =  0.00016703491187041567 variance =  0.004317267146020175\n",
      "n =  300 bias =  4.506952610000856e-05 variance =  0.00301283790925441\n",
      "n =  400 bias =  0.0001063881629142735 variance =  0.0011826229952494032\n",
      "n =  500 bias =  0.00012314095026742133 variance =  0.001701491979458132\n",
      "n =  600 bias =  0.00013846322056648946 variance =  0.0008673173049478784\n",
      "n =  700 bias =  4.3989486044820326e-05 variance =  0.0006724509591551001\n",
      "n =  800 bias =  0.0001330617612969356 variance =  0.00077059182930134\n",
      "n =  900 bias =  3.003652094216913e-05 variance =  0.0006177102176748975\n",
      "n =  1000 bias =  6.667819734075147e-05 variance =  0.0007084729960159595\n"
     ]
    },
    {
     "data": {
      "image/png": "[encoded data removed]",
      "text/plain": [
       "<Figure size 432x288 with 1 Axes>"
      ]
     },
     "metadata": {
      "needs_background": "light"
     },
     "output_type": "display_data"
    }
   ],
   "source": [
    "import math\n",
    "import numpy as np\n",
    "import matplotlib.pyplot as plt\n",
    "\n",
    "n = [100, 200, 300, 400, 500, 600, 700, 800, 900, 1000]\n",
    "final_bias = []\n",
    "final_var = []\n",
    "\n",
    "\n",
    "def linear_regression(X_train, y_train, X_test, y_test):\n",
    "    X_train = np.c_[np.ones(X_train.shape[0]), X_train]\n",
    "    X_test = np.c_[np.ones(X_test.shape[0]), X_test]\n",
    "    w = np.linalg.inv(X_train.T @ X_train) @ X_train.T @ y_train\n",
    "    y_pred = X_test @ w\n",
    "    return y_pred\n",
    "\n",
    "\n",
    "x1t = np.random.uniform(1, 10, 100)\n",
    "x2t = np.random.uniform(2, 5, 100)\n",
    "x_test = np.column_stack((x1t, x2t))\n",
    "y_test = 4+x1t+3*x2t\n",
    "\n",
    "for num in n:\n",
    "    x_train = []\n",
    "    y_train = []\n",
    "    for i in range(10):\n",
    "        x1 = np.random.uniform(1, 10, num)\n",
    "        x2 = np.random.uniform(2, 5, num)\n",
    "        x = np.column_stack((x1, x2))\n",
    "        x_train.append(x)\n",
    "        t = 4+x1+3*x2\n",
    "        ep = np.random.normal(0, math.sqrt(0.25), num)\n",
    "        y = t+ep\n",
    "        y_train.append(y)\n",
    "\n",
    "    preds = []\n",
    "    for i in range(10):\n",
    "        preds.append(linear_regression(x_train[i], y_train[i], x_test, y_test))\n",
    "\n",
    "    ym_list = []\n",
    "    for i in range(100):\n",
    "        ym = (preds[0][i]+preds[1][i]+preds[2][i]+preds[3][i]+preds[4][i] +\n",
    "              preds[5][i]+preds[6][i]+preds[7][i]+preds[8][i]+preds[9][i])/10\n",
    "        ym_list.append(ym)\n",
    "\n",
    "    bias_list = []\n",
    "    for i in range(100):\n",
    "        bias = (y_test[i]-ym_list[i])**2\n",
    "        bias_list.append(bias)\n",
    "\n",
    "    bias = np.mean(bias_list)\n",
    "    final_bias.append(bias)\n",
    "\n",
    "    var_list = []\n",
    "    for i in range(100):\n",
    "        var_list.append(sum((preds[j][i]-ym_list[i])**2 for j in range(10))/10)\n",
    "\n",
    "    var = np.mean(var_list)\n",
    "    final_var.append(var)\n",
    "\n",
    "for i in range(10):\n",
    "    print(\"n = \", (i+1)*100, \"bias = \",\n",
    "          final_bias[i], \"variance = \", final_var[i])\n",
    "\n",
    "plt.plot(n, final_bias, label='bias')\n",
    "plt.plot(n, final_var, label='variance')\n",
    "plt.legend()\n",
    "plt.show()"
   ]
  }
 ],
 "metadata": {
  "kernelspec": {
   "display_name": "Python 3.10.6 64-bit",
   "language": "python",
   "name": "python3"
  },
  "language_info": {
   "codemirror_mode": {
    "name": "ipython",
    "version": 3
   },
   "file_extension": ".py",
   "mimetype": "text/x-python",
   "name": "python",
   "nbconvert_exporter": "python",
   "pygments_lexer": "ipython3",
   "version": "3.10.6"
  },
  "orig_nbformat": 4,
  "vscode": {
   "interpreter": {
    "hash": "9193c1a9913195caabc2c874ca2de0cb16dd52b286f913a03acced765754a1e1"
   }
  }
 },
 "nbformat": 4,
 "nbformat_minor": 2
}
