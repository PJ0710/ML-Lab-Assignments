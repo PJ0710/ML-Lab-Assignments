{
 "cells": [
  {
   "cell_type": "code",
   "execution_count": 3,
   "metadata": {},
   "outputs": [
    {
     "name": "stdout",
     "output_type": "stream",
     "text": [
      "Accuracy when K = 1 is 0.9666666666666667\n",
      "Accuracy when K = 3 is 0.9666666666666667\n"
     ]
    },
    {
     "name": "stderr",
     "output_type": "stream",
     "text": [
      "C:\\Users\\pranj\\AppData\\Local\\Temp\\ipykernel_17332\\116325628.py:23: FutureWarning: Unlike other reduction functions (e.g. `skew`, `kurtosis`), the default behavior of `mode` typically preserves the axis it acts along. In SciPy 1.11.0, this behavior will change: the default value of `keepdims` will become False, the `axis` over which the statistic is taken will be eliminated, and the value None will no longer be accepted. Set `keepdims` to True or False to avoid this warning.\n",
      "  lab = mode(labels)\n"
     ]
    }
   ],
   "source": [
    "from random import random\n",
    "import sklearn\n",
    "from sklearn import datasets\n",
    "import numpy as np\n",
    "import random\n",
    "from scipy.stats import mode\n",
    "from numpy.random import randint\n",
    "def eucledianDistance(point1,point2):\n",
    "    dist = np.sqrt(np.sum((point1-point2)**2))\n",
    "    return dist\n",
    "\n",
    "def predictor(x_train, y , x_input, k):\n",
    "    predicted_data = []\n",
    "    for item in x_input: \n",
    "        point_distance = []\n",
    "        l = len(x_train)\n",
    "        for j in range(l): \n",
    "            distances = eucledianDistance(np.array(x_train[j,:]) , item) \n",
    "            point_distance.append(distances) \n",
    "        point_distance = np.array(point_distance) \n",
    "        dist = np.argsort(point_distance)[:k] \n",
    "        labels = y[dist]\n",
    "        lab = mode(labels) \n",
    "        lab = lab.mode[0]\n",
    "        predicted_data.append(lab)\n",
    " \n",
    "    return predicted_data\n",
    "\n",
    "def accuracyScore(y_predict,y_test):\n",
    "    l = len(y_predict)\n",
    "    score = 0\n",
    "    for i in range(0,l):\n",
    "        if y_predict[i] == y_test[i]:\n",
    "            score=score+1\n",
    "    return score/l\n",
    "\n",
    "IRIS = datasets.load_iris()\n",
    "x = IRIS.data\n",
    "y = IRIS.target\n",
    "\n",
    "train_index = random.sample(range(0,150), 120)\n",
    "X_train = x[train_index]\n",
    "Y_train = y[train_index]\n",
    "\n",
    "test_index = []\n",
    "for i in range(0,150):\n",
    "    if i not in train_index:\n",
    "        test_index.append(i)\n",
    "X_test = x[test_index]\n",
    "Y_test = y[test_index]\n",
    "\n",
    "k = int(input(\"Enter k: \"))\n",
    "\n",
    "y_predicted = predictor(X_train,Y_train,X_test , 1)\n",
    "y1_predicted = predictor(X_train,Y_train,X_test , k)\n",
    "accuracy1 = accuracyScore(y_predicted,Y_test)\n",
    "accuracy2 = accuracyScore(y1_predicted,Y_test)\n",
    "print(f\"Accuracy when K = 1 is {accuracy1}\")\n",
    "print(f\"Accuracy when K = \"+str(k)+ \" is \"+str(accuracy2))"
   ]
  }
 ],
 "metadata": {
  "kernelspec": {
   "display_name": "Python 3.10.6 64-bit",
   "language": "python",
   "name": "python3"
  },
  "language_info": {
   "codemirror_mode": {
    "name": "ipython",
    "version": 3
   },
   "file_extension": ".py",
   "mimetype": "text/x-python",
   "name": "python",
   "nbconvert_exporter": "python",
   "pygments_lexer": "ipython3",
   "version": "3.10.6"
  },
  "orig_nbformat": 4,
  "vscode": {
   "interpreter": {
    "hash": "9193c1a9913195caabc2c874ca2de0cb16dd52b286f913a03acced765754a1e1"
   }
  }
 },
 "nbformat": 4,
 "nbformat_minor": 2
}
