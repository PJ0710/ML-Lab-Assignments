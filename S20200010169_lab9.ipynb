{
 "cells": [
  {
   "cell_type": "code",
   "execution_count": 126,
   "metadata": {},
   "outputs": [],
   "source": [
    "import numpy as np\n",
    "import matplotlib.pyplot as plt\n",
    "\n",
    "mean1 = [0, 0]\n",
    "cov1 = [[1, 0], [0, 1]]\n",
    "mean2 = [4, 5]\n",
    "cov2 = [[1, 0], [0, 1]]\n",
    "\n",
    "def gradient_descent(X_train, y_train, X_test, learning_rate, epochs):\n",
    "    X_train = np.c_[np.ones(X_train.shape[0]), X_train]\n",
    "    X_test = np.c_[np.ones(X_test.shape[0]), X_test]\n",
    "    w = np.zeros(X_train.shape[1])\n",
    "    for i in range(epochs):\n",
    "        y_pred = X_train @ w\n",
    "        w = w - learning_rate * (X_train.T @ (y_pred - y_train))\n",
    "    y_pred = X_test @ w\n",
    "    return y_pred,w"
   ]
  },
  {
   "cell_type": "code",
   "execution_count": 127,
   "metadata": {},
   "outputs": [
    {
     "name": "stdout",
     "output_type": "stream",
     "text": [
      "Predictions:  [-1. -1. -1. -1. -1. -1. -1. -1. -1. -1. -1. -1. -1. -1. -1. -1. -1. -1.\n",
      "  1. -1. -1. -1. -1. -1. -1.  1.  1.  1.  1.  1.  1.  1.  1.  1.  1.  1.\n",
      "  1.  1.  1.  1.  1.  1.  1.  1.  1.  1.  1.  1.  1.  1.]\n",
      "Loss:  [0. 0. 0. 0. 0. 0. 0. 0. 0. 0. 0. 0. 0. 0. 0. 0. 0. 0. 1. 0. 0. 0. 0. 0.\n",
      " 0. 0. 0. 0. 0. 0. 0. 0. 0. 0. 0. 0. 0. 0. 0. 0. 0. 0. 0. 0. 0. 0. 0. 0.\n",
      " 0. 0.]\n",
      "Test Error Rate:  2.0 %\n",
      "Accuracy:  98.0 %\n"
     ]
    },
    {
     "data": {
      "image/png": "[encoded data removed]",
      "text/plain": [
       "<Figure size 432x288 with 1 Axes>"
      ]
     },
     "metadata": {
      "needs_background": "light"
     },
     "output_type": "display_data"
    }
   ],
   "source": [
    "x1 = np.random.multivariate_normal(mean1, cov1, 50)\n",
    "x2 = np.random.multivariate_normal(mean2, cov2, 50)\n",
    "\n",
    "X_train = np.concatenate((x1, x2), axis=0)\n",
    "y_train = np.concatenate((-1*(np.ones(50)), np.ones(50)), axis=0)\n",
    "\n",
    "x1t = np.random.multivariate_normal(mean1, cov1, 25)\n",
    "x2t = np.random.multivariate_normal(mean2, cov2, 25)\n",
    "\n",
    "X_test = np.concatenate((x1t, x2t), axis=0)\n",
    "y_test = np.concatenate((-1*(np.ones(25)), np.ones(25)), axis=0)\n",
    "\n",
    "y_pred,w = gradient_descent(X_train, y_train, X_test, 0.0001, 100)\n",
    "\n",
    "for i in range(len(y_pred)):\n",
    "    if y_pred[i] > 0:\n",
    "        y_pred[i] = 1\n",
    "    else:\n",
    "        y_pred[i] = -1\n",
    "\n",
    "loss = np.zeros(len(y_pred))\n",
    "\n",
    "for i in range(len(y_pred)):\n",
    "    if y_pred[i] == y_test[i]:\n",
    "        loss[i] = 0\n",
    "    else:\n",
    "        loss[i] = 1\n",
    "\n",
    "print(\"Predictions: \", y_pred)\n",
    "print(\"Loss: \", loss)\n",
    "print(\"Test Error Rate: \", np.sum(loss)/len(loss)*100, \"%\")\n",
    "print(\"Accuracy: \", 100 - np.sum(loss)/len(loss)*100, \"%\")\n",
    "\n",
    "plt.scatter(X_train[:,0], X_train[:,1], c=y_train)\n",
    "x = np.linspace(-5, 10, 100)\n",
    "y = -w[0]/w[2] - w[1]/w[2]*x\n",
    "plt.plot(x,y)\n",
    "plt.show()"
   ]
  }
 ],
 "metadata": {
  "kernelspec": {
   "display_name": "Python 3.10.6 64-bit",
   "language": "python",
   "name": "python3"
  },
  "language_info": {
   "codemirror_mode": {
    "name": "ipython",
    "version": 3
   },
   "file_extension": ".py",
   "mimetype": "text/x-python",
   "name": "python",
   "nbconvert_exporter": "python",
   "pygments_lexer": "ipython3",
   "version": "3.10.6"
  },
  "orig_nbformat": 4,
  "vscode": {
   "interpreter": {
    "hash": "9193c1a9913195caabc2c874ca2de0cb16dd52b286f913a03acced765754a1e1"
   }
  }
 },
 "nbformat": 4,
 "nbformat_minor": 2
}
