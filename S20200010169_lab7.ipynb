{
 "cells": [
  {
   "cell_type": "code",
   "execution_count": 200,
   "metadata": {},
   "outputs": [],
   "source": [
    "import numpy as np\n",
    "import pandas as pd\n",
    "import random\n",
    "\n",
    "hpdata = pd.read_csv(\"House Price.csv\")"
   ]
  },
  {
   "cell_type": "code",
   "execution_count": 201,
   "metadata": {},
   "outputs": [
    {
     "name": "stdout",
     "output_type": "stream",
     "text": [
      "SSE for Linear Regression:  3569.992625392454\n",
      "\n",
      "For 100 iterations\n",
      "SSE for Gradient Descent:  29414.60316119295\n",
      "Coefficients of the Optimized model:  [ 0.00162501 -0.01604402  0.05447591 -0.00408422  0.00023888  0.00057082\n",
      "  0.01229809  0.04429721  0.01043032 -0.01230131  0.03659058  0.02440911]\n",
      "SSE for Training Data:  66051.77646652536\n",
      "SSE for Testing Data:  29414.60316119295\n",
      "MSE for train:  186.5869391709756\n",
      "MSE for test:  193.51712606047994\n",
      "R2 for train:  -1.2068483283716245\n",
      "R2 for test:  -1.3238962719879805\n",
      "\n",
      "For 1000000 iterations\n",
      "SSE for Gradient Descent:  3850.3931771942734\n",
      "Coefficients of the Optimized model:  [ 0.52096603 -0.18286438  0.04126938 -0.10129027  0.88833694  0.04902498\n",
      "  6.94855258 -0.04724709 -1.04589486  0.24085107 -0.01530432 -0.48946061]\n",
      "SSE for Training Data:  11598.410994918115\n",
      "SSE for Testing Data:  3850.3931771942734\n",
      "MSE for train:  32.76387286700032\n",
      "MSE for test:  25.33153406048864\n",
      "R2 for train:  0.6124868204131652\n",
      "R2 for test:  0.695800269643793\n"
     ]
    }
   ],
   "source": [
    "x = hpdata.drop([\"Median Value of Houses in Lakhs\"],axis=1).to_numpy()\n",
    "y = hpdata[\"Median Value of Houses in Lakhs\"].to_numpy()\n",
    "train_index = random.sample(range(0,506), 354)\n",
    "X_train = x[train_index]\n",
    "y_train = y[train_index]\n",
    "\n",
    "test_index = []\n",
    "for i in range(0,506):\n",
    "    if i not in train_index:\n",
    "        test_index.append(i)\n",
    "X_test = x[test_index]\n",
    "y_test = y[test_index]\n",
    "\n",
    "def linear_regression(X_train, y_train, X_test, y_test):\n",
    "    X_train = np.c_[np.ones(X_train.shape[0]), X_train]\n",
    "    X_test = np.c_[np.ones(X_test.shape[0]), X_test]\n",
    "    w = np.linalg.inv(X_train.T @ X_train) @ X_train.T @ y_train\n",
    "    y_pred = X_test @ w\n",
    "    return y_pred\n",
    "\n",
    "def sse(y_pred, y_test):\n",
    "    return np.sum((y_pred - y_test)**2)\n",
    "\n",
    "def mse(y_pred, y_test):\n",
    "    return np.mean((y_pred - y_test)**2)\n",
    "\n",
    "def r2(y_pred, y_test):\n",
    "    return 1 - (np.sum((y_pred - y_test)**2)/np.sum((y_test - np.mean(y_test))**2))\n",
    "\n",
    "y_pred = linear_regression(X_train, y_train, X_test, y_test)\n",
    "\n",
    "print(\"SSE for Linear Regression: \", sse(y_pred, y_test))\n",
    "\n",
    "def gradient_descent(X_train, y_train, X_test, y_test, learning_rate, epochs):\n",
    "    X_train = np.c_[np.ones(X_train.shape[0]), X_train]\n",
    "    X_test = np.c_[np.ones(X_test.shape[0]), X_test]\n",
    "    w = np.zeros(X_train.shape[1])\n",
    "    for i in range(epochs):\n",
    "        y_pred = X_train @ w\n",
    "        w = w - learning_rate * (X_train.T @ (y_pred - y_train))\n",
    "    y_pred = X_test @ w\n",
    "    return y_pred,w\n",
    "\n",
    "y_pred_test,w = gradient_descent(X_train, y_train, X_test, y_test, 0.00000001, 100)\n",
    "y_pred_train,w1 = gradient_descent(X_train, y_train, X_train, y_train, 0.00000001, 100)\n",
    "\n",
    "print(\"\\nFor 100 iterations\")\n",
    "\n",
    "print(\"SSE for Gradient Descent: \", sse(y_pred_test, y_test))\n",
    "\n",
    "print(\"Coefficients of the Optimized model: \", w)\n",
    "print(\"SSE for Training Data: \", sse(y_pred_train, y_train))\n",
    "print(\"SSE for Testing Data: \", sse(y_pred_test, y_test))\n",
    "print(\"MSE for train: \", mse(y_pred_train, y_train))\n",
    "print(\"MSE for test: \", mse(y_pred_test, y_test))\n",
    "print(\"R2 for train: \", r2(y_pred_train, y_train))\n",
    "print(\"R2 for test: \", r2(y_pred_test, y_test))\n",
    "\n",
    "y_pred_test,w = gradient_descent(X_train, y_train, X_test, y_test, 0.00000001, 1000000)\n",
    "y_pred_train,w1 = gradient_descent(X_train, y_train, X_train, y_train, 0.00000001, 1000000)\n",
    "\n",
    "print(\"\\nFor 1000000 iterations\")\n",
    "\n",
    "print(\"SSE for Gradient Descent: \", sse(y_pred_test, y_test))\n",
    "\n",
    "print(\"Coefficients of the Optimized model: \", w)\n",
    "print(\"SSE for Training Data: \", sse(y_pred_train, y_train))\n",
    "print(\"SSE for Testing Data: \", sse(y_pred_test, y_test))\n",
    "print(\"MSE for train: \", mse(y_pred_train, y_train))\n",
    "print(\"MSE for test: \", mse(y_pred_test, y_test))\n",
    "print(\"R2 for train: \", r2(y_pred_train, y_train))\n",
    "print(\"R2 for test: \", r2(y_pred_test, y_test))"
   ]
  }
 ],
 "metadata": {
  "kernelspec": {
   "display_name": "Python 3.10.6 64-bit",
   "language": "python",
   "name": "python3"
  },
  "language_info": {
   "codemirror_mode": {
    "name": "ipython",
    "version": 3
   },
   "file_extension": ".py",
   "mimetype": "text/x-python",
   "name": "python",
   "nbconvert_exporter": "python",
   "pygments_lexer": "ipython3",
   "version": "3.10.6"
  },
  "orig_nbformat": 4,
  "vscode": {
   "interpreter": {
    "hash": "9193c1a9913195caabc2c874ca2de0cb16dd52b286f913a03acced765754a1e1"
   }
  }
 },
 "nbformat": 4,
 "nbformat_minor": 2
}
